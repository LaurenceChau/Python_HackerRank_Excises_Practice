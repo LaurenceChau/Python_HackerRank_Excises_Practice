{
 "cells": [
  {
   "cell_type": "markdown",
   "metadata": {},
   "source": [
    "# Detect HTML Tags, Attributes and Attribute Values"
   ]
  },
  {
   "cell_type": "markdown",
   "metadata": {},
   "source": [
    "You are given an HTML code snippet of N lines.                                                                 \n",
    "Your task is to detect and print all the HTML tags, attributes and attribute values.\n",
    "\n",
    "Print the detected items in the following format:"
   ]
  },
  {
   "cell_type": "raw",
   "metadata": {},
   "source": [
    "Tag1\n",
    "Tag2\n",
    "-> Attribute2[0] > Attribute_value2[0]\n",
    "-> Attribute2[1] > Attribute_value2[1]\n",
    "-> Attribute2[2] > Attribute_value2[2]\n",
    "Tag3\n",
    "-> Attribute3[0] > Attribute_value3[0]"
   ]
  },
  {
   "cell_type": "markdown",
   "metadata": {},
   "source": [
    "The -> symbol indicates that the tag contains an attribute. It is immediately followed by the name of the attribute and the attribute value. \n",
    "The > symbol acts as a separator of attributes and attribute values.\n",
    "\n",
    "If an HTML tag has no attribute then simply print the name of the tag.\n",
    "\n",
    "Note: Do not detect any HTML tag, attribute or attribute value inside the HTML comment tags (<!-- Comments -->). Comments can be multiline.\n",
    "All attributes have an attribute value."
   ]
  },
  {
   "cell_type": "code",
   "execution_count": 4,
   "metadata": {},
   "outputs": [],
   "source": [
    "n_lines = 9\n",
    "html_list = [\n",
    "    '<head>',\n",
    "    '<title>HTML</title>',\n",
    "    '</head>',\n",
    "    '<object type=\"application/x-flash\" ',\n",
    "    'data=\"your-file.swf\"',\n",
    "    'width=\"0\" height=\"0\">',\n",
    "    '<!-- <param name=\"movie\" value=\"your-file.swf\" /> -->',\n",
    "    '<param name=\"quality\" value=\"high\"/>',\n",
    "    '</object>'    \n",
    "]"
   ]
  },
  {
   "cell_type": "code",
   "execution_count": 5,
   "metadata": {},
   "outputs": [
    {
     "name": "stdout",
     "output_type": "stream",
     "text": [
      "head\n",
      "title\n",
      "object\n",
      "-> type > application/x-flash\n",
      "-> data > your-file.swf\n",
      "-> width > 0\n",
      "-> height > 0\n",
      "param\n",
      "-> name > quality\n",
      "-> value > high\n"
     ]
    }
   ],
   "source": [
    "from html.parser import HTMLParser\n",
    "\n",
    "class myHTMLParser(HTMLParser):\n",
    "    \n",
    "    def handle_starttag(self, tag, attrs):\n",
    "        print(tag)\n",
    "        for attr in attrs:\n",
    "            print('-> {} > {}'.format(attr[0], attr[1]))\n",
    "    \n",
    "\n",
    "html_text = ''\n",
    "for i in range(n_lines):\n",
    "    html_text += html_list[i].rstrip()\n",
    "\n",
    "parser = myHTMLParser()\n",
    "parser.feed(html_text)"
   ]
  },
  {
   "cell_type": "code",
   "execution_count": null,
   "metadata": {},
   "outputs": [],
   "source": []
  }
 ],
 "metadata": {
  "kernelspec": {
   "display_name": "Python 3",
   "language": "python",
   "name": "python3"
  },
  "language_info": {
   "codemirror_mode": {
    "name": "ipython",
    "version": 3
   },
   "file_extension": ".py",
   "mimetype": "text/x-python",
   "name": "python",
   "nbconvert_exporter": "python",
   "pygments_lexer": "ipython3",
   "version": "3.6.7"
  }
 },
 "nbformat": 4,
 "nbformat_minor": 2
}
