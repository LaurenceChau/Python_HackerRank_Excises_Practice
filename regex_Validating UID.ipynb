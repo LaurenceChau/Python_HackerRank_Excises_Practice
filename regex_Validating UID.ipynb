{
 "cells": [
  {
   "cell_type": "markdown",
   "metadata": {},
   "source": [
    "# Validating UID"
   ]
  },
  {
   "cell_type": "markdown",
   "metadata": {},
   "source": [
    "ABCXYZ company has up to 100 employees. \n",
    "The company decides to create a unique identification number (UID) for each of its employees. \n",
    "The company has assigned you the task of validating all the randomly generated UIDs.\n",
    "\n",
    "A valid UID must follow the rules below:\n",
    "\n",
    "* It must contain at least 2 uppercase English alphabet characters.\n",
    "* It must contain at least 3 digits (0 - 9).\n",
    "* It should only contain alphanumeric characters (a - z, A - Z & 0 - 9).\n",
    "* No character should repeat.\n",
    "* There must be exactly  characters in a valid UID."
   ]
  },
  {
   "cell_type": "code",
   "execution_count": 19,
   "metadata": {},
   "outputs": [],
   "source": [
    "n_input = 2\n",
    "input_text = 'B1CD102354,B1CDEF2354'"
   ]
  },
  {
   "cell_type": "code",
   "execution_count": 22,
   "metadata": {},
   "outputs": [
    {
     "data": {
      "text/plain": [
       "['B1CD102354', 'B1CDEF2354']"
      ]
     },
     "execution_count": 22,
     "metadata": {},
     "output_type": "execute_result"
    }
   ],
   "source": [
    "input_list = input_text.split(',')\n",
    "input_list"
   ]
  },
  {
   "cell_type": "code",
   "execution_count": 24,
   "metadata": {},
   "outputs": [
    {
     "name": "stdout",
     "output_type": "stream",
     "text": [
      "B1CD102354 : Invalid\n",
      "B1CDEF2354 : Valid\n"
     ]
    }
   ],
   "source": [
    "import re\n",
    "for i in range(n_input):\n",
    "    text = input_list[i]\n",
    "    m = re.match(r'^[a-zA-Z0-9]{10}$',text)\n",
    "    m1 = re.match(r'^.{0,}[A-Z].{0,}[A-Z].{0,}$', text)\n",
    "    m2 = re.match(r'^.{0,}[0-9].{0,}[0-9].{0,}[0-9].{0,}$', text)\n",
    "    m3 = re.match(r'^(?!.*([a-zA-Z0-9]).*(\\1))', text)\n",
    "    if all([m,m1,m2,m3]):\n",
    "        print(f'{text} : Valid')\n",
    "    else:\n",
    "        print(f'{text} : Invalid')"
   ]
  },
  {
   "cell_type": "code",
   "execution_count": null,
   "metadata": {},
   "outputs": [],
   "source": []
  }
 ],
 "metadata": {
  "kernelspec": {
   "display_name": "Python 3",
   "language": "python",
   "name": "python3"
  },
  "language_info": {
   "codemirror_mode": {
    "name": "ipython",
    "version": 3
   },
   "file_extension": ".py",
   "mimetype": "text/x-python",
   "name": "python",
   "nbconvert_exporter": "python",
   "pygments_lexer": "ipython3",
   "version": "3.6.7"
  }
 },
 "nbformat": 4,
 "nbformat_minor": 2
}
