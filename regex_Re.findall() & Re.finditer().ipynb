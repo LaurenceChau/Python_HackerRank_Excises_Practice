{
 "cells": [
  {
   "cell_type": "markdown",
   "metadata": {},
   "source": [
    "# Re.findall() & Re.finditer()"
   ]
  },
  {
   "cell_type": "markdown",
   "metadata": {},
   "source": [
    "Task \n",
    "You are given a string . It consists of alphanumeric characters, spaces and symbols(+,-). \n",
    "Your task is to find all the substrings of  that contains  or more vowels. \n",
    "Also, these substrings must lie in between  consonants and should contain vowels only.\n",
    "\n",
    "Note : \n",
    "Vowels are defined as: AEIOU and aeiou. \n",
    "Consonants are defined as: QWRTYPSDFGHJKLZXCVBNM and qwrtypsdfghjklzxcvbnm.\n",
    "\n",
    "Input Format\n",
    "\n",
    "A single line of input containing string .\n",
    "\n",
    "Constraints\n",
    "\n",
    "\n",
    "Output Format\n",
    "\n",
    "Print the matched substrings in their order of occurrence on separate lines. \n",
    "If no match is found, print -1.\n"
   ]
  },
  {
   "cell_type": "code",
   "execution_count": 1,
   "metadata": {},
   "outputs": [],
   "source": [
    "i = 'rabcdeefgyYhFjkIoomnpOeorteeeeet'"
   ]
  },
  {
   "cell_type": "code",
   "execution_count": 2,
   "metadata": {},
   "outputs": [
    {
     "name": "stdout",
     "output_type": "stream",
     "text": [
      "ee\n",
      "Ioo\n",
      "Oeo\n",
      "eeeee\n"
     ]
    }
   ],
   "source": [
    "import re\n",
    "r = r'(?<=[qwrtypsdfghjklzxcvbnmQWRTYPSDFGHJKLZXCVBNM]{1})([AEIOUaeiou]{2,})(?=[qwrtypsdfghjklzxcvbnmQWRTYPSDFGHJKLZXCVBNM]{1})'\n",
    "matches = re.findall(r, i)\n",
    "if len(matches)>0:\n",
    "    print('\\n'.join(matches))\n",
    "else:\n",
    "    print(-1)"
   ]
  }
 ],
 "metadata": {
  "kernelspec": {
   "display_name": "Python 3",
   "language": "python",
   "name": "python3"
  },
  "language_info": {
   "codemirror_mode": {
    "name": "ipython",
    "version": 3
   },
   "file_extension": ".py",
   "mimetype": "text/x-python",
   "name": "python",
   "nbconvert_exporter": "python",
   "pygments_lexer": "ipython3",
   "version": "3.6.7"
  }
 },
 "nbformat": 4,
 "nbformat_minor": 2
}
