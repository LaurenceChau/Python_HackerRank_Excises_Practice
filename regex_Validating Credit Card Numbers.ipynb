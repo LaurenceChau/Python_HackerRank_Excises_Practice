{
 "cells": [
  {
   "cell_type": "markdown",
   "metadata": {},
   "source": [
    "# Validating Credit Card Numbers"
   ]
  },
  {
   "cell_type": "markdown",
   "metadata": {},
   "source": [
    "You and Fredrick are good friends. Yesterday, Fredrick received  credit cards from ABCD Bank. He wants to verify whether his credit card numbers are valid or not. You happen to be great at regex so he is asking for your help!\n",
    "\n",
    "A valid credit card from ABCD Bank has the following characteristics: \n",
    "\n",
    "* It must start with a 4, 5 or 6. \n",
    "* It must contain exactly 16 digits. \n",
    "* It must only consist of digits (0-9). \n",
    "* It may have digits in groups of 4, separated by one hyphen \"-\". \n",
    "* It must NOT use any other separator like ' ' , '_', etc. \n",
    "* It must NOT have 4 or more consecutive repeated digits."
   ]
  },
  {
   "cell_type": "raw",
   "metadata": {},
   "source": [
    "Valid Credit Card Numbers\n",
    "\n",
    "4253625879615786\n",
    "4424424424442444\n",
    "5122-2368-7954-3214"
   ]
  },
  {
   "cell_type": "raw",
   "metadata": {},
   "source": [
    "Invalid Credit Card Numbers\n",
    "\n",
    "42536258796157867       #17 digits in card number → Invalid \n",
    "4424444424442444        #Consecutive digits are repeating 4 or more times → Invalid\n",
    "5122-2368-7954 - 3214   #Separators other than '-' are used → Invalid\n",
    "44244x4424442444        #Contains non digit characters → Invalid\n",
    "0525362587961578        #Doesn't start with 4, 5 or 6 → Invalid"
   ]
  },
  {
   "cell_type": "code",
   "execution_count": 3,
   "metadata": {},
   "outputs": [],
   "source": [
    "n_lines = 6\n",
    "ccno = '4123456789123456,5123-4567-8912-3456,61234-567-8912-3456,4123356789123456,5133-3367-8912-3456,5123 - 3567 - 8912 - 3456'"
   ]
  },
  {
   "cell_type": "code",
   "execution_count": 5,
   "metadata": {},
   "outputs": [
    {
     "data": {
      "text/plain": [
       "['4123456789123456',\n",
       " '5123-4567-8912-3456',\n",
       " '61234-567-8912-3456',\n",
       " '4123356789123456',\n",
       " '5133-3367-8912-3456',\n",
       " '5123 - 3567 - 8912 - 3456']"
      ]
     },
     "execution_count": 5,
     "metadata": {},
     "output_type": "execute_result"
    }
   ],
   "source": [
    "ccno_list = ccno.split(',')\n",
    "ccno_list"
   ]
  },
  {
   "cell_type": "code",
   "execution_count": 7,
   "metadata": {},
   "outputs": [
    {
     "name": "stdout",
     "output_type": "stream",
     "text": [
      "Valid\n",
      "Valid\n",
      "Invalid\n",
      "Valid\n",
      "Invalid\n",
      "Invalid\n"
     ]
    }
   ],
   "source": [
    "import re\n",
    "\n",
    "for i in range(n_lines):\n",
    "    cno = ccno_list[i]\n",
    "    m = re.match(r'^[4-6][0-9]{15}|[4-6][0-9]{3}-[0-9]{4}-[0-9]{4}-[0-9]{4}$', cno)\n",
    "    m1 = re.match(r'^(?!.*([0-9])(-?\\1){3,})', cno)\n",
    "    if all([m,m1]):\n",
    "        print('Valid')\n",
    "    else:\n",
    "        print('Invalid')"
   ]
  },
  {
   "cell_type": "code",
   "execution_count": null,
   "metadata": {},
   "outputs": [],
   "source": []
  }
 ],
 "metadata": {
  "kernelspec": {
   "display_name": "Python 3",
   "language": "python",
   "name": "python3"
  },
  "language_info": {
   "codemirror_mode": {
    "name": "ipython",
    "version": 3
   },
   "file_extension": ".py",
   "mimetype": "text/x-python",
   "name": "python",
   "nbconvert_exporter": "python",
   "pygments_lexer": "ipython3",
   "version": "3.6.7"
  }
 },
 "nbformat": 4,
 "nbformat_minor": 2
}
